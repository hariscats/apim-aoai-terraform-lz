{
 "cells": [
  {
   "cell_type": "code",
   "execution_count": null,
   "metadata": {},
   "outputs": [],
   "source": [
    "%%writefile requirements.txt\n",
    "\n",
    "openai==1.42.0\n",
    "azure-identity==1.17.1"
   ]
  },
  {
   "cell_type": "code",
   "execution_count": null,
   "metadata": {},
   "outputs": [],
   "source": [
    "!python -m ensurepip --upgrade --user\n",
    "\n",
    "%pip install -r requirements.txt --user"
   ]
  },
  {
   "cell_type": "code",
   "execution_count": 8,
   "metadata": {},
   "outputs": [],
   "source": [
    "tenant_id = \"\"\n",
    "client_id = \"\"\n",
    "client_secret = \"\"\n",
    "client_id_scope = f\"api://{client_id}/user_impersonation\"\n",
    "redirect_uri = \"http://localhost:8000\"\n",
    "apim_name = \"\"\n",
    "apim_subscription_key = \"\"\n",
    "openai_client_id = \"\"\n",
    "openai_id_scope = f\"api://{openai_client_id}/user_impersonation\"\n",
    "openai_api_version = \"2024-06-01\"\n",
    "chat_deployment_name = \"gpt-4o-2024-05-13\"\n",
    "embedding_deployment_name = \"text-embedding-3-large-1\""
   ]
  },
  {
   "cell_type": "code",
   "execution_count": null,
   "metadata": {},
   "outputs": [],
   "source": [
    "from openai import AzureOpenAI\n",
    "from azure.identity import DefaultAzureCredential, OnBehalfOfCredential, InteractiveBrowserCredential, get_bearer_token_provider\n",
    "\n",
    "#this example uses an app registration with the \"Mobile and desktop applications\" redirect URI set to \"http://localhost:8000\"\n",
    "credential = InteractiveBrowserCredential(\n",
    "   tenant_id=tenant_id,\n",
    "   client_id=client_id,\n",
    "   redirect_uri=redirect_uri)\n",
    "\n",
    "token_provider = get_bearer_token_provider(credential, client_id_scope)\n",
    "\n",
    "obo_credential = OnBehalfOfCredential(\n",
    "    tenant_id=tenant_id,\n",
    "    client_id=client_id,\n",
    "    client_secret=client_secret,\n",
    "    user_assertion=token_provider(),\n",
    ")\n",
    "\n",
    "obo_token_provider = get_bearer_token_provider(obo_credential, openai_id_scope)\n",
    "\n",
    "client = AzureOpenAI(\n",
    "    api_version=openai_api_version,\n",
    "    azure_endpoint=\"https://\" + apim_name + \".azure-api.net\",\n",
    "    azure_ad_token_provider=obo_token_provider,\n",
    "    default_headers={\"Ocp-Apim-Subscription-Key\": apim_subscription_key}\n",
    ")"
   ]
  },
  {
   "cell_type": "markdown",
   "metadata": {},
   "source": [
    "Call OpenAI through APIM"
   ]
  },
  {
   "cell_type": "code",
   "execution_count": null,
   "metadata": {},
   "outputs": [],
   "source": [
    "response = client.chat.completions.create(\n",
    "    model=chat_deployment_name,\n",
    "    messages=[\n",
    "        {\n",
    "            \"role\": \"user\",\n",
    "            \"content\": \"Hello!\"\n",
    "        }\n",
    "    ]\n",
    ")\n",
    "\n",
    "print(response.to_json())"
   ]
  },
  {
   "cell_type": "markdown",
   "metadata": {},
   "source": [
    "Call OpenAI through APIM in a loop"
   ]
  },
  {
   "cell_type": "code",
   "execution_count": null,
   "metadata": {},
   "outputs": [],
   "source": [
    "for i in range(1000):\n",
    "    client.chat.completions.create(\n",
    "        model=chat_deployment_name,\n",
    "        messages=[\n",
    "            {\n",
    "                \"role\": \"system\", \"content\": \"\"\"Assistant is an intelligent chatbot designed to help users answer technical questions about Azure OpenAI Serivce. Only answer questions using the context below and if you're not sure of an answer, you can say 'I don't know'.\n",
    "                Context:\n",
    "                - Azure OpenAI Service provides REST API access to OpenAI's powerful language models including the GPT-3, Codex and Embeddings model series.\n",
    "                - Azure OpenAI Service gives customers advanced language AI with OpenAI GPT-3, Codex, and DALL-E models with the security and enterprise promise of Azure. Azure OpenAI co-develops the APIs with OpenAI, ensuring compatibility and a smooth transition from one to the other.\n",
    "                - At Microsoft, we're committed to the advancement of AI driven by principles that put people first. Microsoft has made significant investments to help guard against abuse and unintended harm, which includes requiring applicants to show well-defined use cases, incorporating Microsoft’s principles for responsible AI use.\"\"\"\n",
    "            },\n",
    "            {\n",
    "                \"role\": \"user\", \n",
    "                \"content\": \"What is Azure OpenAI Service?\"}\n",
    "        ]\n",
    "    )"
   ]
  }
 ],
 "metadata": {
  "kernelspec": {
   "display_name": "Python 3",
   "language": "python",
   "name": "python3"
  },
  "language_info": {
   "codemirror_mode": {
    "name": "ipython",
    "version": 3
   },
   "file_extension": ".py",
   "mimetype": "text/x-python",
   "name": "python",
   "nbconvert_exporter": "python",
   "pygments_lexer": "ipython3",
   "version": "3.12.4"
  }
 },
 "nbformat": 4,
 "nbformat_minor": 2
}
